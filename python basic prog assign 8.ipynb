{
 "cells": [
  {
   "cell_type": "code",
   "execution_count": 1,
   "id": "e1a83fe6",
   "metadata": {},
   "outputs": [
    {
     "name": "stdout",
     "output_type": "stream",
     "text": [
      "[[10 12 14]\n",
      " [10 12 14]\n",
      " [10 12 14]]\n"
     ]
    }
   ],
   "source": [
    "#Q1 \n",
    "#'to add the two matrices'\n",
    "import numpy as np\n",
    "arr = np.array(([4,5,6],[4,5,6],[4,5,6]))\n",
    "arr1 = np.array(([6,7,8],[6,7,8],[6,7,8]))\n",
    "result = arr +arr1\n",
    "print(result)"
   ]
  },
  {
   "cell_type": "code",
   "execution_count": 2,
   "id": "20df729e",
   "metadata": {},
   "outputs": [
    {
     "name": "stdout",
     "output_type": "stream",
     "text": [
      "[[24 35 48]\n",
      " [24 35 48]\n",
      " [24 35 48]]\n"
     ]
    }
   ],
   "source": [
    "#Q2 \n",
    "#'to multiply two matrices'\n",
    "import numpy as np\n",
    "arr = np.array(([4,5,6],[4,5,6],[4,5,6]))\n",
    "arr1 = np.array(([6,7,8],[6,7,8],[6,7,8]))\n",
    "result = arr * arr1\n",
    "print(result)"
   ]
  },
  {
   "cell_type": "code",
   "execution_count": 3,
   "id": "829c4072",
   "metadata": {},
   "outputs": [
    {
     "name": "stdout",
     "output_type": "stream",
     "text": [
      "[[10  9]\n",
      " [ 8 34]\n",
      " [78  0]]\n"
     ]
    }
   ],
   "source": [
    "#Q3\n",
    "#program to transpose a matrix\n",
    "import numpy as np\n",
    "arr = np.matrix('[10,8,78;9,34,0]')\n",
    "result = arr.transpose()\n",
    "print(result)"
   ]
  },
  {
   "cell_type": "code",
   "execution_count": 5,
   "id": "1dbf50af",
   "metadata": {},
   "outputs": [
    {
     "name": "stdout",
     "output_type": "stream",
     "text": [
      "enter the string: my name is Bhupesh pandey\n",
      "Bhupesh\n",
      "is\n",
      "my\n",
      "name\n",
      "pandey\n"
     ]
    }
   ],
   "source": [
    "#Q4\n",
    "#'to sort words in alphabetic order'\n",
    "ra = input(\"enter the string: \")\n",
    "word = ra.split()\n",
    "word.sort()\n",
    "for result in word:\n",
    "    print(result)\n",
    "    "
   ]
  },
  {
   "cell_type": "code",
   "execution_count": 6,
   "id": "ed3002cf",
   "metadata": {},
   "outputs": [
    {
     "name": "stdout",
     "output_type": "stream",
     "text": [
      "enter the string: $bhupesh #is %student ^of *ineuron\n",
      "bhupesh is student of ineuron\n"
     ]
    }
   ],
   "source": [
    "#Q5\n",
    "#'program to remove the punctuation'\n",
    "import re \n",
    "ra = input(\"enter the string: \")\n",
    "ra = re.sub(r'[^\\w\\s]','',ra)\n",
    "print(ra)"
   ]
  },
  {
   "cell_type": "code",
   "execution_count": null,
   "id": "05afa562",
   "metadata": {},
   "outputs": [],
   "source": []
  }
 ],
 "metadata": {
  "kernelspec": {
   "display_name": "Python 3 (ipykernel)",
   "language": "python",
   "name": "python3"
  },
  "language_info": {
   "codemirror_mode": {
    "name": "ipython",
    "version": 3
   },
   "file_extension": ".py",
   "mimetype": "text/x-python",
   "name": "python",
   "nbconvert_exporter": "python",
   "pygments_lexer": "ipython3",
   "version": "3.10.9"
  }
 },
 "nbformat": 4,
 "nbformat_minor": 5
}
