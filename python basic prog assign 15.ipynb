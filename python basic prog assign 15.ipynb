{
 "cells": [
  {
   "cell_type": "code",
   "execution_count": 1,
   "id": "18925b8c",
   "metadata": {},
   "outputs": [
    {
     "name": "stdout",
     "output_type": "stream",
     "text": [
      "100\n",
      "0,35,70\n"
     ]
    }
   ],
   "source": [
    "#Q1\n",
    "def numbers(n):\n",
    "    for i in range(n+1):\n",
    "        if i%5 == 0 and i%7 == 0:\n",
    "            yield i\n",
    "n = int(input())\n",
    "value = []\n",
    "for i in numbers(n):\n",
    "    value.append(str(i))\n",
    "print(\",\".join(value))"
   ]
  },
  {
   "cell_type": "code",
   "execution_count": 2,
   "id": "395e61d4",
   "metadata": {},
   "outputs": [
    {
     "name": "stdout",
     "output_type": "stream",
     "text": [
      "enter the value: 10\n",
      "0,2,4,6,8,10\n"
     ]
    }
   ],
   "source": [
    "#Q2\n",
    "n = int(input(\"enter the value: \"))\n",
    "for i in range(0, n+1, 2):\n",
    "    if i < n - 1:\n",
    "        print(i, end = ',' )\n",
    "    else:\n",
    "        print(i)"
   ]
  },
  {
   "cell_type": "code",
   "execution_count": 3,
   "id": "ff9b5f15",
   "metadata": {},
   "outputs": [
    {
     "name": "stdout",
     "output_type": "stream",
     "text": [
      "enter the value: 7\n",
      "the output is:  [0, 1, 1, 2, 3, 5, 8, 13]\n"
     ]
    }
   ],
   "source": [
    "#Q3\n",
    "def fibonacci(n):\n",
    "    if n == 0:\n",
    "        return 0\n",
    "    if n == 1:\n",
    "        return 0,1\n",
    "    sequence = [0,1]\n",
    "    a,b = 0,1\n",
    "    for i in range(2,n+1):\n",
    "        c = a + b\n",
    "        sequence.append(c)\n",
    "        a = b\n",
    "        b = c\n",
    "    return sequence\n",
    "n = int(input(\"enter the value: \"))\n",
    "print(\"the output is: \",fibonacci(n))"
   ]
  },
  {
   "cell_type": "code",
   "execution_count": 4,
   "id": "ede12595",
   "metadata": {},
   "outputs": [
    {
     "name": "stdout",
     "output_type": "stream",
     "text": [
      "enter the emailAddress: john@gooogle.com\n",
      "the output is:  john\n"
     ]
    }
   ],
   "source": [
    "#Q4\n",
    "import re\n",
    "emailAddress = input(\"enter the emailAddress: \")\n",
    "result = \"(\\w+)@(\\w+)\\.(com)\"\n",
    "result2 = re.match(result,emailAddress)\n",
    "print(\"the output is: \",result2.group(1))"
   ]
  },
  {
   "cell_type": "code",
   "execution_count": 5,
   "id": "a2d6a008",
   "metadata": {},
   "outputs": [
    {
     "name": "stdout",
     "output_type": "stream",
     "text": [
      "the result is:  9\n"
     ]
    }
   ],
   "source": [
    "#Q5\n",
    "class shape(object):\n",
    "    def __init__(self):\n",
    "        pass\n",
    "    \n",
    "    def area(self):\n",
    "        return 0\n",
    "    \n",
    "class square(shape):\n",
    "    def __init__(self,l):\n",
    "        shape.__init__(self)\n",
    "        self.lenth = l\n",
    "        \n",
    "    def area(self):\n",
    "        return self.lenth*self.lenth\n",
    "    \n",
    "Square = square(3)\n",
    "print(\"the result is: \",Square.area())"
   ]
  },
  {
   "cell_type": "code",
   "execution_count": null,
   "id": "9753287e",
   "metadata": {},
   "outputs": [],
   "source": []
  }
 ],
 "metadata": {
  "kernelspec": {
   "display_name": "Python 3 (ipykernel)",
   "language": "python",
   "name": "python3"
  },
  "language_info": {
   "codemirror_mode": {
    "name": "ipython",
    "version": 3
   },
   "file_extension": ".py",
   "mimetype": "text/x-python",
   "name": "python",
   "nbconvert_exporter": "python",
   "pygments_lexer": "ipython3",
   "version": "3.10.9"
  }
 },
 "nbformat": 4,
 "nbformat_minor": 5
}
