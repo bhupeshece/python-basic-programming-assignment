{
 "cells": [
  {
   "cell_type": "code",
   "execution_count": 3,
   "id": "954ee40e",
   "metadata": {},
   "outputs": [
    {
     "name": "stdout",
     "output_type": "stream",
     "text": [
      "Enter first number: 4\n",
      "Enter second number: 8\n",
      "The L.C.M. of 4 and 8 is 8\n"
     ]
    }
   ],
   "source": [
    "#q1\n",
    "def calculate_lcm(x, y):  \n",
    "    # selecting the greater number  \n",
    "    if x > y:  \n",
    "        greater = x  \n",
    "    else:  \n",
    "        greater = y  \n",
    "    while(True):  \n",
    "        if((greater % x == 0) and (greater % y == 0)):  \n",
    "            lcm = greater  \n",
    "            break  \n",
    "        greater += 1  \n",
    "    return lcm    \n",
    "   \n",
    "num1 = int(input(\"Enter first number: \"))  \n",
    "num2 = int(input(\"Enter second number: \"))  \n",
    " \n",
    "print(\"The L.C.M. of\", num1,\"and\", num2,\"is\", calculate_lcm(num1, num2))  \n"
   ]
  },
  {
   "cell_type": "code",
   "execution_count": 2,
   "id": "e72ad2b6",
   "metadata": {},
   "outputs": [
    {
     "name": "stdout",
     "output_type": "stream",
     "text": [
      "Enter first number: 5\n",
      "Enter second number: 20\n",
      "The H.C.F. of 5 and 20 is 5\n"
     ]
    }
   ],
   "source": [
    "#q2\n",
    "def calculate_hcf(x, y):  \n",
    "    # selecting the smaller number  \n",
    "    if x > y:  \n",
    "        smaller = y  \n",
    "    else:  \n",
    "        smaller = x  \n",
    "    for i in range(1,smaller + 1):  \n",
    "        if((x % i == 0) and (y % i == 0)):  \n",
    "            hcf = i  \n",
    "    return hcf  \n",
    "  \n",
    "num1 = int(input(\"Enter first number: \"))  \n",
    "num2 = int(input(\"Enter second number: \"))  \n",
    "print(\"The H.C.F. of\", num1,\"and\", num2,\"is\", calculate_hcf(num1, num2))  "
   ]
  },
  {
   "cell_type": "code",
   "execution_count": 5,
   "id": "79c8efc2",
   "metadata": {},
   "outputs": [
    {
     "name": "stdout",
     "output_type": "stream",
     "text": [
      "Enter an integer: 40\n",
      "The decimal value of 40 is:\n",
      "0b101000 in binary.\n",
      "0o50 in octal.\n",
      "0x28 in hexadecimal.\n"
     ]
    }
   ],
   "source": [
    "#q3\n",
    "dec = int(input(\"Enter an integer: \"))\n",
    "print(\"The decimal value of\",dec,\"is:\")\n",
    "print(bin(dec),\"in binary.\")\n",
    "print(oct(dec),\"in octal.\")\n",
    "print(hex(dec),\"in hexadecimal.\")"
   ]
  },
  {
   "cell_type": "code",
   "execution_count": 6,
   "id": "4d77fbd9",
   "metadata": {},
   "outputs": [
    {
     "name": "stdout",
     "output_type": "stream",
     "text": [
      "Enter a character: A\n",
      "The ASCII value of A is 65\n"
     ]
    }
   ],
   "source": [
    "#q4\n",
    "character = input(\"Enter a character: \")\n",
    "ascii_value = ord(character)\n",
    "\n",
    "# Display the ASCII value\n",
    "print(\"The ASCII value of\", character, \"is\", ascii_value)"
   ]
  },
  {
   "cell_type": "code",
   "execution_count": 7,
   "id": "9dbc2f54",
   "metadata": {},
   "outputs": [
    {
     "name": "stdout",
     "output_type": "stream",
     "text": [
      "Enter the first number: 20\n",
      "Enter the second number: 10\n",
      "Enter the operation (+, -, *, /): *\n",
      "Result: 200.0\n"
     ]
    }
   ],
   "source": [
    "#q5\n",
    "def add(x, y):\n",
    "    return x + y\n",
    "\n",
    "def subtract(x, y):\n",
    "    return x - y\n",
    "\n",
    "def multiply(x, y):\n",
    "    return x * y\n",
    "\n",
    "def divide(x, y):\n",
    "    return x / y\n",
    "\n",
    "num1 = float(input(\"Enter the first number: \"))\n",
    "num2 = float(input(\"Enter the second number: \"))\n",
    "operation = input(\"Enter the operation (+, -, *, /): \")\n",
    "\n",
    "if operation == '+':\n",
    "    result = add(num1, num2)\n",
    "elif operation == '-':\n",
    "    result = subtract(num1, num2)\n",
    "elif operation == '*':\n",
    "    result = multiply(num1, num2)\n",
    "elif operation == '/':\n",
    "    result = divide(num1, num2)\n",
    "else:\n",
    "    print(\"Invalid operation\")\n",
    "    exit()\n",
    "\n",
    "# Display the result\n",
    "print(\"Result:\", result)\n"
   ]
  },
  {
   "cell_type": "code",
   "execution_count": null,
   "id": "e63edde7",
   "metadata": {},
   "outputs": [],
   "source": []
  }
 ],
 "metadata": {
  "kernelspec": {
   "display_name": "Python 3 (ipykernel)",
   "language": "python",
   "name": "python3"
  },
  "language_info": {
   "codemirror_mode": {
    "name": "ipython",
    "version": 3
   },
   "file_extension": ".py",
   "mimetype": "text/x-python",
   "name": "python",
   "nbconvert_exporter": "python",
   "pygments_lexer": "ipython3",
   "version": "3.10.9"
  }
 },
 "nbformat": 4,
 "nbformat_minor": 5
}
