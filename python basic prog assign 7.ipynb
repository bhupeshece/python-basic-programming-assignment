{
 "cells": [
  {
   "cell_type": "code",
   "execution_count": 1,
   "id": "21ba3a61",
   "metadata": {},
   "outputs": [
    {
     "name": "stdout",
     "output_type": "stream",
     "text": [
      "Sum of the array: 15\n"
     ]
    }
   ],
   "source": [
    "#q1\n",
    "def sum_of_array(arr):\n",
    "    total = 0\n",
    "    for num in arr:\n",
    "        total += num\n",
    "    return total\n",
    "\n",
    "if __name__ == \"__main__\":\n",
    "    array = [1, 2, 3, 4, 5]\n",
    "    result = sum_of_array(array)\n",
    "    print(\"Sum of the array:\", result)\n"
   ]
  },
  {
   "cell_type": "code",
   "execution_count": 2,
   "id": "41e78fe9",
   "metadata": {},
   "outputs": [
    {
     "name": "stdout",
     "output_type": "stream",
     "text": [
      "Largest element in the array: 15\n"
     ]
    }
   ],
   "source": [
    "#q2\n",
    "def find_largest_element(arr):\n",
    "    if not arr:\n",
    "        return None  \n",
    "\n",
    "    largest = arr[0]  \n",
    "    for num in arr:\n",
    "        if num > largest:\n",
    "            largest = num \n",
    "    return largest\n",
    "if __name__ == \"__main__\":\n",
    "    array = [5, 12, 9, 3, 7, 15, 2]\n",
    "    result = find_largest_element(array)\n",
    "    print(\"Largest element in the array:\", result)\n"
   ]
  },
  {
   "cell_type": "code",
   "execution_count": 3,
   "id": "5f281fab",
   "metadata": {},
   "outputs": [
    {
     "name": "stdout",
     "output_type": "stream",
     "text": [
      "Original Array: [1, 2, 3, 4, 5]\n",
      "Rotated Array: [4, 5, 1, 2, 3]\n"
     ]
    }
   ],
   "source": [
    "#q3\n",
    "def rotate_array(arr, k):\n",
    "    n = len(arr)\n",
    "    k = k % n  # To handle cases where k is greater than array length\n",
    "\n",
    "    # If k is 0, the array remains unchanged\n",
    "    if k == 0:\n",
    "        return arr\n",
    "\n",
    "    # Rotate the array elements\n",
    "    rotated_arr = arr[n - k:] + arr[:n - k]\n",
    "\n",
    "    return rotated_arr\n",
    "if __name__ == \"__main__\":\n",
    "    array = [1, 2, 3, 4, 5]\n",
    "    rotation_count = 2\n",
    "    rotated_array = rotate_array(array, rotation_count)\n",
    "    print(\"Original Array:\", array)\n",
    "    print(\"Rotated Array:\", rotated_array)\n"
   ]
  },
  {
   "cell_type": "code",
   "execution_count": 4,
   "id": "1f277682",
   "metadata": {},
   "outputs": [
    {
     "name": "stdout",
     "output_type": "stream",
     "text": [
      "Original Array: [1, 2, 3, 4, 5]\n",
      "Modified Array: [3, 4, 5, 1, 2]\n"
     ]
    }
   ],
   "source": [
    "#q4\n",
    "\n",
    "def split_and_add(arr, split_index):\n",
    "    if split_index <= 0 or split_index >= len(arr):\n",
    "        return arr\n",
    "\n",
    "    split_arr = arr[split_index:] + arr[:split_index]\n",
    "\n",
    "    return split_arr\n",
    "\n",
    "if __name__ == \"__main__\":\n",
    "    array = [1, 2, 3, 4, 5]\n",
    "    split_index = 2\n",
    "    modified_array = split_and_add(array, split_index)\n",
    "    print(\"Original Array:\", array)\n",
    "    print(\"Modified Array:\", modified_array)\n"
   ]
  },
  {
   "cell_type": "code",
   "execution_count": 6,
   "id": "465bd895",
   "metadata": {},
   "outputs": [
    {
     "name": "stdout",
     "output_type": "stream",
     "text": [
      "Is array1 monotonic? True\n",
      "Is array2 monotonic? True\n",
      "Is array3 monotonic? False\n"
     ]
    }
   ],
   "source": [
    "#q5\n",
    "\n",
    "def is_monotonic(arr):\n",
    "    increasing = decreasing = True\n",
    "\n",
    "    for i in range(1, len(arr)):\n",
    "        if arr[i] < arr[i - 1]:\n",
    "            increasing = False\n",
    "        if arr[i] > arr[i - 1]:\n",
    "            decreasing = False\n",
    "\n",
    "    return increasing or decreasing\n",
    "\n",
    "if __name__ == \"__main__\":\n",
    "    array1 = [1, 2, 3, 4, 5]\n",
    "    array2 = [5, 4, 3, 2, 1]\n",
    "    array3 = [1, 2, 2, 3, 2]\n",
    "    \n",
    "    print(\"Is array1 monotonic?\", is_monotonic(array1))\n",
    "    print(\"Is array2 monotonic?\", is_monotonic(array2))\n",
    "    print(\"Is array3 monotonic?\", is_monotonic(array3))\n"
   ]
  },
  {
   "cell_type": "code",
   "execution_count": null,
   "id": "5913a047",
   "metadata": {},
   "outputs": [],
   "source": []
  }
 ],
 "metadata": {
  "kernelspec": {
   "display_name": "Python 3 (ipykernel)",
   "language": "python",
   "name": "python3"
  },
  "language_info": {
   "codemirror_mode": {
    "name": "ipython",
    "version": 3
   },
   "file_extension": ".py",
   "mimetype": "text/x-python",
   "name": "python",
   "nbconvert_exporter": "python",
   "pygments_lexer": "ipython3",
   "version": "3.10.9"
  }
 },
 "nbformat": 4,
 "nbformat_minor": 5
}
