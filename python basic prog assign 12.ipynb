{
 "cells": [
  {
   "cell_type": "code",
   "execution_count": 3,
   "id": "32e1709d",
   "metadata": {},
   "outputs": [
    {
     "name": "stdout",
     "output_type": "stream",
     "text": [
      "['bhupesh', 'loky', 'harsha', 'sanchit']\n"
     ]
    }
   ],
   "source": [
    "#Q1\n",
    "dicts = {'101':'bhupesh','102':'loky','103':'harsha','104':'sanchit','105':'harsha'}\n",
    "lis = []\n",
    "for i in dicts.values():\n",
    "    if i in lis:\n",
    "        continue\n",
    "    else:\n",
    "        lis.append(i)\n",
    "print(lis)"
   ]
  },
  {
   "cell_type": "code",
   "execution_count": 4,
   "id": "10ae3e7a",
   "metadata": {},
   "outputs": [
    {
     "name": "stdout",
     "output_type": "stream",
     "text": [
      "the sum of the all the items is: 50\n"
     ]
    }
   ],
   "source": [
    "#Q2\n",
    "add={'A':10,'B':15,'C':25}\n",
    "print(\"the sum of the all the items is:\",sum(add.values()))"
   ]
  },
  {
   "cell_type": "code",
   "execution_count": 5,
   "id": "f03c9205",
   "metadata": {},
   "outputs": [
    {
     "name": "stdout",
     "output_type": "stream",
     "text": [
      "{'name': 'bhupesh', 'age': 25, 'sex': 'male', 'id': '1020', 'location': 'uttarakhand', 'education': 'graduate'}\n"
     ]
    }
   ],
   "source": [
    "#Q3\n",
    "dict1 = {'name':'bhupesh','age':25,'sex':'male'}\n",
    "dict2 = {'id':'1020','location':'uttarakhand','education':'graduate'}\n",
    "dict1.update(dict2) #we are using update method to merge two dictionary\n",
    "print(dict1)"
   ]
  },
  {
   "cell_type": "code",
   "execution_count": 6,
   "id": "c3a3ad9f",
   "metadata": {},
   "outputs": [
    {
     "name": "stdout",
     "output_type": "stream",
     "text": [
      "the dictionary is:  {'food': ['biryani', 'samosa', 'pani_puri', 'butter_chicken'], 'price': [150, 15, 25, 80]}\n",
      "the flat dictionary is:  {'biryani': 150, 'samosa': 15, 'pani_puri': 25, 'butter_chicken': 80}\n"
     ]
    }
   ],
   "source": [
    "#Q4\n",
    "dic = {'food':['biryani','samosa','pani_puri','butter_chicken'], 'price':[150,15,25,80]}\n",
    "print('the dictionary is: ',dic)\n",
    "result = dict(zip(dic['food'],dic['price']))\n",
    "print('the flat dictionary is: ', result)"
   ]
  },
  {
   "cell_type": "code",
   "execution_count": 7,
   "id": "852a8734",
   "metadata": {},
   "outputs": [
    {
     "name": "stdout",
     "output_type": "stream",
     "text": [
      "the output after the insertion is : OrderedDict([('z', '50'), ('A1', '5'), ('B1', '10'), ('C1', '15')])\n"
     ]
    }
   ],
   "source": [
    "#Q5\n",
    "from collections import OrderedDict\n",
    "dic1 = OrderedDict([('A1', '5'), ('B1', '10'), ('C1', '15')])\n",
    "dict2 = OrderedDict([('z', '50')])\n",
    "final = OrderedDict(list(dict2.items()) + list(dic1.items()))\n",
    "print (\"the output after the insertion is :\",final)"
   ]
  },
  {
   "cell_type": "code",
   "execution_count": 8,
   "id": "7605b436",
   "metadata": {},
   "outputs": [
    {
     "name": "stdout",
     "output_type": "stream",
     "text": [
      "enter the string: bhupesh pandey\n",
      "enter the second string: ineuron\n",
      "False\n"
     ]
    }
   ],
   "source": [
    "#Q6\n",
    "#importing the OrderedDict module from Collections\n",
    "from collections import OrderedDict \n",
    "def order(string, pattern): \n",
    "    dic = OrderedDict.fromkeys(string) \n",
    "    result = 0\n",
    "    for key,value in dic.items(): \n",
    "        if (key == pattern[result]): \n",
    "            result = result + 1\n",
    "        if (result == (len(pattern))): \n",
    "            return 'True'\n",
    "    return 'False'\n",
    "\n",
    "string = input(\"enter the string: \")\n",
    "pattern = input(\"enter the second string: \")\n",
    "print(order(string,pattern))"
   ]
  },
  {
   "cell_type": "code",
   "execution_count": 9,
   "id": "7bf86f75",
   "metadata": {},
   "outputs": [
    {
     "name": "stdout",
     "output_type": "stream",
     "text": [
      "[1, 3, 5, 8, 100, 111]\n",
      "[2, 4, 6, 9, 102, 121]\n"
     ]
    }
   ],
   "source": [
    "#Q7\n",
    "sort = {1:2, 111:121, 3:4, 100:102, 5:6, 8:9}\n",
    "print(sorted(sort.keys())) #for sorting the keys dictionary\n",
    "print(sorted(sort.values())) #for sorting the values in dictionary"
   ]
  },
  {
   "cell_type": "code",
   "execution_count": null,
   "id": "bd603ccb",
   "metadata": {},
   "outputs": [],
   "source": []
  }
 ],
 "metadata": {
  "kernelspec": {
   "display_name": "Python 3 (ipykernel)",
   "language": "python",
   "name": "python3"
  },
  "language_info": {
   "codemirror_mode": {
    "name": "ipython",
    "version": 3
   },
   "file_extension": ".py",
   "mimetype": "text/x-python",
   "name": "python",
   "nbconvert_exporter": "python",
   "pygments_lexer": "ipython3",
   "version": "3.10.9"
  }
 },
 "nbformat": 4,
 "nbformat_minor": 5
}
