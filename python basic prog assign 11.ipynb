{
 "cells": [
  {
   "cell_type": "code",
   "execution_count": 1,
   "id": "68fda148",
   "metadata": {},
   "outputs": [
    {
     "name": "stdout",
     "output_type": "stream",
     "text": [
      "enter the words: student of ineuron\n",
      "enter the value of the words: 3\n",
      "words which are greater than length 3 are ['student', 'ineuron']\n"
     ]
    }
   ],
   "source": [
    "#Q1\n",
    "try:\n",
    "    sentance = input(\"enter the words: \")\n",
    "    k = int(input(\"enter the value of the words: \"))\n",
    "    n = []\n",
    "    words = sentance.split(\" \")\n",
    "    for i in words:\n",
    "        if len(i)>k:\n",
    "            n.append(i)\n",
    "    print(\"words which are greater than length {0} are {1}\".format(k,n))\n",
    "except Exception as e:\n",
    "    print(e)"
   ]
  },
  {
   "cell_type": "code",
   "execution_count": 2,
   "id": "f6bdba59",
   "metadata": {},
   "outputs": [
    {
     "name": "stdout",
     "output_type": "stream",
     "text": [
      "enter the string: bhupeshpandey\n",
      "enter the i-th index: 5\n",
      "bhupshpandey\n"
     ]
    }
   ],
   "source": [
    "#Q2\n",
    "try:\n",
    "    def remove(s,i):\n",
    "        for j in range(len(s)):\n",
    "            if j == i:\n",
    "                s = s.replace(s[i],\"\",1)\n",
    "        return s\n",
    "    string = input(\"enter the string: \")\n",
    "    i = int(input(\"enter the i-th index: \"))\n",
    "    print(remove(string,i-1))\n",
    "except Exception as e:\n",
    "    print(e)"
   ]
  },
  {
   "cell_type": "code",
   "execution_count": 3,
   "id": "0ef7dab3",
   "metadata": {},
   "outputs": [
    {
     "name": "stdout",
     "output_type": "stream",
     "text": [
      "enter the string: bhupesh is student of ineuron.ai\n",
      "enter the splitter: -\n",
      "the output of splitting the string is: ['bhupesh', 'is', 'student', 'of', 'ineuron.ai']\n",
      "the output of joining the string is: bhupesh-is-student-of-ineuron.ai\n"
     ]
    }
   ],
   "source": [
    "#Q3\n",
    "try:\n",
    "    def split_join():\n",
    "        words = input(\"enter the string: \")\n",
    "        sep = input(\"enter the splitter: \")\n",
    "        split_out = words.split(' ')\n",
    "        join_out = sep.join(split_out)\n",
    "        print(\"the output of splitting the string is: {}\".format(split_out))\n",
    "        print(\"the output of joining the string is: {}\".format(join_out))\n",
    "    split_join()\n",
    "except Exception as e:\n",
    "    print(e)"
   ]
  },
  {
   "cell_type": "code",
   "execution_count": 4,
   "id": "b51fc23d",
   "metadata": {},
   "outputs": [
    {
     "name": "stdout",
     "output_type": "stream",
     "text": [
      "it is binary string\n"
     ]
    }
   ],
   "source": [
    "#Q4\n",
    "try:\n",
    "    def str_binary(n):\n",
    "        result = set(n)\n",
    "        set_res = {'0','1'}\n",
    "        if set_res == result or result == {'0'} or result == {'1'}:\n",
    "            print(\"it is binary string\")\n",
    "        else:\n",
    "            print(\"it is not a binary string\")\n",
    "    ra = '0110'\n",
    "    str_binary(ra)\n",
    "except Exception as e:\n",
    "    print(e)"
   ]
  },
  {
   "cell_type": "code",
   "execution_count": 5,
   "id": "39edf46d",
   "metadata": {},
   "outputs": [
    {
     "name": "stdout",
     "output_type": "stream",
     "text": [
      "enter the first words: cat killed the rat\n",
      "enter the second words: rat was killed by cat\n",
      "the uncommom words are : ['the', 'was', 'by']\n"
     ]
    }
   ],
   "source": [
    "#Q5\n",
    "def copy_words(w1,w2):\n",
    "    count = {}\n",
    "    for i in w1.split():\n",
    "        count[i] = count.get(i,0)+1\n",
    "    for i in w2.split():\n",
    "        count[i] = count.get(i,0)+1\n",
    "    return [i for i in count if count[i] == 1]\n",
    "w1 = input(\"enter the first words: \")\n",
    "w2 = input(\"enter the second words: \")\n",
    "print(\"the uncommom words are :\",copy_words(w1,w2))"
   ]
  },
  {
   "cell_type": "code",
   "execution_count": null,
   "id": "988280ad",
   "metadata": {},
   "outputs": [],
   "source": []
  },
  {
   "cell_type": "code",
   "execution_count": 6,
   "id": "e34eb809",
   "metadata": {},
   "outputs": [
    {
     "name": "stdout",
     "output_type": "stream",
     "text": [
      "enter the string: bhupeshpandey\n",
      "the duplicate characters are:  ['h', 'p', 'e']\n"
     ]
    }
   ],
   "source": [
    "#Q6\n",
    "try:\n",
    "    string = input(\"enter the string: \")\n",
    "    copies = []\n",
    "    for i in string:\n",
    "    #checking wheather string is including copies or not\n",
    "        if string.count(i)>1:\n",
    "            if i not in copies:\n",
    "                copies.append(i)\n",
    "    print(\"the duplicate characters are: \",copies)\n",
    "except Exception as e:\n",
    "    print(e)"
   ]
  },
  {
   "cell_type": "code",
   "execution_count": 10,
   "id": "0cf23126",
   "metadata": {},
   "outputs": [
    {
     "name": "stdout",
     "output_type": "stream",
     "text": [
      "enter the string: bhup^e$s#h!\n",
      "string contains special character\n"
     ]
    }
   ],
   "source": [
    "#Q7\n",
    "import re\n",
    "def spec_char(string):\n",
    "    special=re.compile('[@_!$%^&*()<>?/\\|}{~:]#')\n",
    "    \n",
    "    if special.search(string) == None:\n",
    "        return \"string contains special character\"\n",
    "    else:\n",
    "        return \"string does not contain special character\"\n",
    "ra =  input(\"enter the string: \")\n",
    "print(spec_char(ra))"
   ]
  },
  {
   "cell_type": "code",
   "execution_count": null,
   "id": "fcb51ef9",
   "metadata": {},
   "outputs": [],
   "source": []
  }
 ],
 "metadata": {
  "kernelspec": {
   "display_name": "Python 3 (ipykernel)",
   "language": "python",
   "name": "python3"
  },
  "language_info": {
   "codemirror_mode": {
    "name": "ipython",
    "version": 3
   },
   "file_extension": ".py",
   "mimetype": "text/x-python",
   "name": "python",
   "nbconvert_exporter": "python",
   "pygments_lexer": "ipython3",
   "version": "3.10.9"
  }
 },
 "nbformat": 4,
 "nbformat_minor": 5
}
