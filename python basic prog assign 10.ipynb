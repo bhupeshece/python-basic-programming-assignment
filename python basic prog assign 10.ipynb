{
 "cells": [
  {
   "cell_type": "code",
   "execution_count": 1,
   "id": "a0385e75",
   "metadata": {},
   "outputs": [
    {
     "name": "stdout",
     "output_type": "stream",
     "text": [
      "the sum of the elements are: 207\n"
     ]
    }
   ],
   "source": [
    "#Q1\n",
    "# ' program to find sum of elements in list'\n",
    "l = [2,3,4,55,66,77]\n",
    "add = sum(l)\n",
    "print(\"the sum of the elements are: {}\".format(add))"
   ]
  },
  {
   "cell_type": "code",
   "execution_count": 2,
   "id": "976abd4c",
   "metadata": {},
   "outputs": [
    {
     "name": "stdout",
     "output_type": "stream",
     "text": [
      "the multiplication of all the numbers are: 6708240\n"
     ]
    }
   ],
   "source": [
    "#Q2\n",
    "# 'program to multiply numbers in the list'\n",
    "l = [2,3,4,55,66,77]\n",
    "multiply = 1\n",
    "for i in l:\n",
    "    multiply *= i\n",
    "print(\"the multiplication of all the numbers are: {}\".format(multiply))"
   ]
  },
  {
   "cell_type": "code",
   "execution_count": 3,
   "id": "e997c366",
   "metadata": {},
   "outputs": [
    {
     "name": "stdout",
     "output_type": "stream",
     "text": [
      "the smallest number in the list is: 0\n"
     ]
    }
   ],
   "source": [
    "#Q3\n",
    "# 'program to find smallest number in the list'\n",
    "sm = [3,5,0,9,33,55]\n",
    "print(\"the smallest number in the list is:\",min(sm))"
   ]
  },
  {
   "cell_type": "code",
   "execution_count": 4,
   "id": "90abd912",
   "metadata": {},
   "outputs": [
    {
     "name": "stdout",
     "output_type": "stream",
     "text": [
      "the largest number in the list is: 333\n"
     ]
    }
   ],
   "source": [
    "#Q4\n",
    "# 'program to find largest number in the list'\n",
    "lr = [44,5,44,3,1,333,5,89,3]\n",
    "print(\"the largest number in the list is:\",max(lr))"
   ]
  },
  {
   "cell_type": "code",
   "execution_count": 5,
   "id": "80e39ab3",
   "metadata": {},
   "outputs": [
    {
     "name": "stdout",
     "output_type": "stream",
     "text": [
      "the second largest number in the list is : 100\n"
     ]
    }
   ],
   "source": [
    "#Q5\n",
    "# 'program to find second largest number in the list'\n",
    "sec_lar = [22,100,33,2,77,145]\n",
    "sec_lar.sort()\n",
    "print(\"the second largest number in the list is : {}\".format(sec_lar[-2]))"
   ]
  },
  {
   "cell_type": "code",
   "execution_count": 6,
   "id": "0eebdfe6",
   "metadata": {},
   "outputs": [
    {
     "name": "stdout",
     "output_type": "stream",
     "text": [
      "[110, 100]\n"
     ]
    }
   ],
   "source": [
    "#Q6\n",
    "# 'program to find n largest elements from a list'\n",
    "# here we are importing heapq module because instead of sorting the whole array we can use heapsort\n",
    "from heapq import nlargest\n",
    "n_largest = [33,4,66,3,44,100,7,2,33,2,110]\n",
    "print(nlargest(2,n_largest))"
   ]
  },
  {
   "cell_type": "code",
   "execution_count": 7,
   "id": "89efc74e",
   "metadata": {},
   "outputs": [
    {
     "name": "stdout",
     "output_type": "stream",
     "text": [
      "22 , 44 , 66 , 2 , 4 , "
     ]
    }
   ],
   "source": [
    "#Q7\n",
    "# 'program to print even numbers in a list'\n",
    "evn_list = [1,33,55,22,44,66,2,4,3,5]\n",
    "for i in evn_list:\n",
    "    if i%2 == 0:\n",
    "        print(i,end=\" , \")"
   ]
  },
  {
   "cell_type": "code",
   "execution_count": 8,
   "id": "9d8c3c97",
   "metadata": {},
   "outputs": [
    {
     "name": "stdout",
     "output_type": "stream",
     "text": [
      "1 , 33 , 55 , 3 , 5 , "
     ]
    }
   ],
   "source": [
    "#Q8\n",
    "# 'program to print odd numbers in a list'\n",
    "odd_list = [1,33,55,22,44,66,2,4,3,5]\n",
    "for i in odd_list:\n",
    "    if i%2 != 0:\n",
    "        print(i,end=\" , \")"
   ]
  },
  {
   "cell_type": "code",
   "execution_count": 9,
   "id": "34901eea",
   "metadata": {},
   "outputs": [
    {
     "name": "stdout",
     "output_type": "stream",
     "text": [
      "the output after removing the empty list is: [1, 3, [33, 44], 5, 4, 33, ['ravindra'], 5]\n"
     ]
    }
   ],
   "source": [
    "#Q9\n",
    "# 'program to remove empty list from list'\n",
    "emp_list = [1,3,[33,44],5,[],4,[],[],33,[],[\"ravindra\"],5]\n",
    "result = [i for i in emp_list if i]\n",
    "print(\"the output after removing the empty list is: {}\".format(result))"
   ]
  },
  {
   "cell_type": "code",
   "execution_count": 10,
   "id": "1c809548",
   "metadata": {},
   "outputs": [
    {
     "name": "stdout",
     "output_type": "stream",
     "text": [
      "the list before colning is: [10, 22, 44, 23, 4]\n",
      "the list after colning is: [10, 22, 44, 23, 4]\n"
     ]
    }
   ],
   "source": [
    "#Q10\n",
    "# 'program to clone or copy a list'\n",
    "copy_list = [10, 22, 44, 23, 4]\n",
    "new_list = list(copy_list)\n",
    "print(\"the list before colning is: {}\".format(copy_list))\n",
    "print(\"the list after colning is: {}\".format(new_list))"
   ]
  },
  {
   "cell_type": "code",
   "execution_count": 11,
   "id": "49e8e063",
   "metadata": {},
   "outputs": [
    {
     "name": "stdout",
     "output_type": "stream",
     "text": [
      "the element occured 4 times in the list\n"
     ]
    }
   ],
   "source": [
    "#Q11\n",
    "# 'program to count occurrences of an element in a list'\n",
    "occ_list = [2,3,44,6,77,2,11,1,2,3,1,2]\n",
    "result = occ_list.count(2)\n",
    "print(\"the element occured {} times in the list\".format(result))"
   ]
  },
  {
   "cell_type": "code",
   "execution_count": null,
   "id": "ae41b107",
   "metadata": {},
   "outputs": [],
   "source": []
  }
 ],
 "metadata": {
  "kernelspec": {
   "display_name": "Python 3 (ipykernel)",
   "language": "python",
   "name": "python3"
  },
  "language_info": {
   "codemirror_mode": {
    "name": "ipython",
    "version": 3
   },
   "file_extension": ".py",
   "mimetype": "text/x-python",
   "name": "python",
   "nbconvert_exporter": "python",
   "pygments_lexer": "ipython3",
   "version": "3.10.9"
  }
 },
 "nbformat": 4,
 "nbformat_minor": 5
}
