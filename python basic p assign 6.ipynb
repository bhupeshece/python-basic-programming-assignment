{
 "cells": [
  {
   "cell_type": "code",
   "execution_count": 1,
   "id": "fdaae504",
   "metadata": {},
   "outputs": [
    {
     "name": "stdout",
     "output_type": "stream",
     "text": [
      "Enter the number of terms: 5\n",
      "Fibonacci Sequence:\n",
      "[0, 1, 1, 2, 3]\n"
     ]
    }
   ],
   "source": [
    "#q1\n",
    "def fibonacci(n):\n",
    "    if n <= 0:\n",
    "        return []\n",
    "    elif n == 1:\n",
    "        return [0]\n",
    "    elif n == 2:\n",
    "        return [0, 1]\n",
    "    else:\n",
    "        sequence = fibonacci(n - 1)\n",
    "        sequence.append(sequence[-1] + sequence[-2])\n",
    "        return sequence\n",
    "\n",
    "n = int(input(\"Enter the number of terms: \"))\n",
    "\n",
    "fib_sequence = fibonacci(n)\n",
    "print(\"Fibonacci Sequence:\")\n",
    "print(fib_sequence)\n"
   ]
  },
  {
   "cell_type": "code",
   "execution_count": 3,
   "id": "1da56f7c",
   "metadata": {},
   "outputs": [
    {
     "name": "stdout",
     "output_type": "stream",
     "text": [
      "Enter a non-negative integer: 5\n",
      "Factorial of 5 is: 120\n"
     ]
    }
   ],
   "source": [
    "#q2\n",
    "def factorial(n):\n",
    "    if n == 0 or n == 1:\n",
    "        return 1\n",
    "    else:\n",
    "        return n * factorial(n - 1)\n",
    "\n",
    "n = int(input(\"Enter a non-negative integer: \"))\n",
    "\n",
    "if n < 0:\n",
    "    print(\"Factorial is not defined for negative numbers.\")\n",
    "else:\n",
    "    result = factorial(n)\n",
    "    print(\"Factorial of\", n, \"is:\", result)\n"
   ]
  },
  {
   "cell_type": "code",
   "execution_count": 4,
   "id": "32f98d55",
   "metadata": {},
   "outputs": [
    {
     "name": "stdout",
     "output_type": "stream",
     "text": [
      "Enter your weight in kilograms: 70\n",
      "Enter your height in meters: 1.8\n",
      "Your Body Mass Index (BMI) is: 21.604938271604937\n"
     ]
    }
   ],
   "source": [
    "#q3\n",
    "def calculate_bmi(weight, height):\n",
    "    bmi = weight / (height ** 2)\n",
    "    return bmi\n",
    "\n",
    "weight = float(input(\"Enter your weight in kilograms: \"))\n",
    "height = float(input(\"Enter your height in meters: \"))\n",
    "\n",
    "bmi = calculate_bmi(weight, height)\n",
    "print(\"Your Body Mass Index (BMI) is:\", bmi)\n"
   ]
  },
  {
   "cell_type": "code",
   "execution_count": 5,
   "id": "ddb15465",
   "metadata": {},
   "outputs": [
    {
     "name": "stdout",
     "output_type": "stream",
     "text": [
      "Enter a positive number: 10\n",
      "The natural logarithm of 10.0 is: 2.302585092994046\n"
     ]
    }
   ],
   "source": [
    "#q4\n",
    "import math\n",
    "\n",
    "number = float(input(\"Enter a positive number: \"))\n",
    "\n",
    "if number <= 0:\n",
    "    print(\"Natural logarithm is undefined for non-positive numbers.\")\n",
    "else:\n",
    "    logarithm = math.log(number)\n",
    "    print(\"The natural logarithm of\", number, \"is:\", logarithm)\n"
   ]
  },
  {
   "cell_type": "code",
   "execution_count": 6,
   "id": "b54a4d36",
   "metadata": {},
   "outputs": [
    {
     "name": "stdout",
     "output_type": "stream",
     "text": [
      "Enter a positive integer: 10\n",
      "The cube sum of the first 10 natural numbers is: 3025\n"
     ]
    }
   ],
   "source": [
    "#q5\n",
    "def cube_sum(n):\n",
    "    sum = 0\n",
    "    for i in range(1, n + 1):\n",
    "        sum += i**3\n",
    "    return sum\n",
    "\n",
    "n = int(input(\"Enter a positive integer: \"))\n",
    "\n",
    "if n <= 0:\n",
    "    print(\"Invalid input. Please enter a positive integer.\")\n",
    "else:\n",
    "    result = cube_sum(n)\n",
    "    print(\"The cube sum of the first\", n, \"natural numbers is:\", result)\n"
   ]
  },
  {
   "cell_type": "code",
   "execution_count": null,
   "id": "008db6bc",
   "metadata": {},
   "outputs": [],
   "source": []
  }
 ],
 "metadata": {
  "kernelspec": {
   "display_name": "Python 3 (ipykernel)",
   "language": "python",
   "name": "python3"
  },
  "language_info": {
   "codemirror_mode": {
    "name": "ipython",
    "version": 3
   },
   "file_extension": ".py",
   "mimetype": "text/x-python",
   "name": "python",
   "nbconvert_exporter": "python",
   "pygments_lexer": "ipython3",
   "version": "3.10.9"
  }
 },
 "nbformat": 4,
 "nbformat_minor": 5
}
